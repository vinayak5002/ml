{
 "cells": [
  {
   "cell_type": "code",
   "execution_count": 2,
   "metadata": {},
   "outputs": [],
   "source": [
    "import numpy as np\n",
    "import pandas as pd"
   ]
  },
  {
   "cell_type": "code",
   "execution_count": null,
   "metadata": {},
   "outputs": [],
   "source": [
    "from sqlite3 import Timestamp\n",
    "\n",
    "\n",
    "df1 = pd.DataFrame(\n",
    "    'A' : range(1, 6),\n",
    "    'B' : pd.Timestamp('20130102')\n",
    "    'C' : pd.series()\n",
    ")"
   ]
  }
 ],
 "metadata": {
  "kernelspec": {
   "display_name": "Python 3.9.13 64-bit (microsoft store)",
   "language": "python",
   "name": "python3"
  },
  "language_info": {
   "codemirror_mode": {
    "name": "ipython",
    "version": 3
   },
   "file_extension": ".py",
   "mimetype": "text/x-python",
   "name": "python",
   "nbconvert_exporter": "python",
   "pygments_lexer": "ipython3",
   "version": "3.9.13"
  },
  "orig_nbformat": 4,
  "vscode": {
   "interpreter": {
    "hash": "fadb1e38f0cdd3a7de9935db49a41ea4c57796df3b1bbd584faf5d0b9d3ba901"
   }
  }
 },
 "nbformat": 4,
 "nbformat_minor": 2
}
