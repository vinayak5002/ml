{
  "cells": [
    {
      "cell_type": "markdown",
      "metadata": {
        "id": "chcMMiJKcqyJ"
      },
      "source": [
        "# **19CSE305: MACHINE LEARNING LAB 2**"
      ]
    },
    {
      "cell_type": "markdown",
      "metadata": {
        "id": "0Q-TStVVdFaA"
      },
      "source": [
        "ROLL NUMBER: CB.EN.U4CSE20465 "
      ]
    },
    {
      "cell_type": "code",
      "execution_count": 56,
      "metadata": {},
      "outputs": [],
      "source": [
        "import pandas as pd\n",
        "import numpy as np\n",
        "import sys"
      ]
    },
    {
      "cell_type": "markdown",
      "metadata": {
        "id": "-7EeRdSAGbw3"
      },
      "source": [
        "## Python Basic Exercises\n",
        "\n",
        "1. Get the values P,t,R from user and calculate compound interest. Formula to calculate compound interest annually is given by: \n",
        "        \n",
        "        \n",
        "        a) A = P(1+R/100)^t\n",
        "        b) CI = A – P\n",
        "        c) Input : Principle, Time, Rate\n",
        "        d) Output : Compound Interest\n",
        "2. Given a list of strings (Entered by the user), write program to get a percentage share of each word in the strings list.\n",
        "        \n",
        "        percentage = (Occurrence of a word / Total words) * 100\n",
        "3. Check if  the binary representation of a number is Palindrome or not. Given an integer ‘n’ (entered by the user), write a Python function that returns true if binary representation of 'x' is palindrome and false if not.\n",
        "4. Write a program to check if all digits of a number divide it. Given a number n (entered by the user), find whether all digits of n divide it or not.\n",
        "5. Given a list of numbers (entered by the user), write a program to find the second largest number in that list.\n",
        "        \n",
        "        Input: [1, 2, 3, 4 ,5]\n",
        "        Output: 4"
      ]
    },
    {
      "cell_type": "code",
      "execution_count": 62,
      "metadata": {},
      "outputs": [
        {
          "name": "stdout",
          "output_type": "stream",
          "text": [
            "Compound interst is 730.7999999999993\n"
          ]
        }
      ],
      "source": [
        "# Question 1\n",
        "\n",
        "def compundInterest(P, T, R):\n",
        "    #A = P(1+R/100)^t\n",
        "    a = P * ((1+(R/100))**T)\n",
        "\n",
        "    return a - P\n",
        "\n",
        "P = int(input(\"Enter P \"))\n",
        "T = int(input(\"Enter T \"))\n",
        "R = int(input(\"Enter R \"))\n",
        "\n",
        "print(f'Compound interst is {compundInterest(P, T, R)}')\n"
      ]
    },
    {
      "cell_type": "code",
      "execution_count": null,
      "metadata": {},
      "outputs": [
        {
          "name": "stdout",
          "output_type": "stream",
          "text": [
            "{'word': 40.0, 'string': 20.0, 'press': 20.0, 'confirm': 20.0}\n"
          ]
        }
      ],
      "source": [
        "# Question 2\n",
        "\n",
        "str = input(\"Enter the string \")\n",
        "\n",
        "words = str.split(' ')\n",
        "wordMap = {}\n",
        "n = 0\n",
        "\n",
        "for i in words:\n",
        "    if i not in wordMap:\n",
        "        wordMap[i] = 0\n",
        "    wordMap[i] += 1\n",
        "    n += 1\n",
        "\n",
        "for word in wordMap:\n",
        "    wordMap[word] = (wordMap[word]/n)*100\n",
        "\n",
        "print(wordMap)"
      ]
    },
    {
      "cell_type": "code",
      "execution_count": null,
      "metadata": {},
      "outputs": [
        {
          "name": "stdout",
          "output_type": "stream",
          "text": [
            "[1, 0, 1]\n",
            "True\n"
          ]
        }
      ],
      "source": [
        "# Question 3:\n",
        "\n",
        "num = int(input())\n",
        "\n",
        "bin = []\n",
        "\n",
        "while(num):\n",
        "    bin.append(num%2)\n",
        "    num //= 2\n",
        "\n",
        "print(bin)\n",
        "print(bin == bin[::-1])"
      ]
    },
    {
      "cell_type": "code",
      "execution_count": null,
      "metadata": {},
      "outputs": [
        {
          "name": "stdout",
          "output_type": "stream",
          "text": [
            "Number is divisible by all of its digits\n"
          ]
        }
      ],
      "source": [
        "# Question 4:\n",
        "\n",
        "dummy = input()\n",
        "\n",
        "digits = []\n",
        "num = int(dummy)\n",
        "\n",
        "boo = True\n",
        "\n",
        "for i in dummy:\n",
        "    if int(i) != 0 and num%int(i) != 0:\n",
        "        boo = False\n",
        "        break\n",
        "\n",
        "print(\"Number is divisible by all of its digits\") if boo else print(\"Number is not divisible by all of its digits\")"
      ]
    },
    {
      "cell_type": "code",
      "execution_count": null,
      "metadata": {},
      "outputs": [
        {
          "name": "stdout",
          "output_type": "stream",
          "text": [
            "[5, 6, 34, 36, 42, 45, 45, 64]\n",
            "Second largest number is 45\n"
          ]
        }
      ],
      "source": [
        "nums = input().split() \n",
        "\n",
        "for i in range(len(nums)):\n",
        "    nums[i] = int(nums[i])\n",
        "\n",
        "nums.sort()\n",
        "print(\"Second largest number is {}\".format(nums[-2]))"
      ]
    },
    {
      "cell_type": "markdown",
      "metadata": {
        "id": "Q3Ba9vORIPW4"
      },
      "source": [
        "## Numpy Basic Exercises\n",
        "\n",
        "1. Create a 3D array of shape 4X5X2 that contains random decimal numbers between 1 and 10.\n",
        "2. Create a randomly created 1D array and Convert it to a 2D array with 2 rows.\n",
        "3. Given a NumPy array of temperature values, convert the values of Centigrade degrees into Fahrenheit degrees. \n",
        "4. Write a NumPy program to count the number of dimensions, number of elements and number of bytes for each element in a given array.\n",
        "5. Write a NumPy program to extract third and second elements of the first and second rows from a given (3x4) array"
      ]
    },
    {
      "cell_type": "code",
      "execution_count": 47,
      "metadata": {},
      "outputs": [
        {
          "data": {
            "text/plain": [
              "array([[[8, 7],\n",
              "        [8, 1],\n",
              "        [4, 2],\n",
              "        [7, 1],\n",
              "        [5, 9]],\n",
              "\n",
              "       [[9, 9],\n",
              "        [9, 5],\n",
              "        [9, 0],\n",
              "        [2, 0],\n",
              "        [6, 8]],\n",
              "\n",
              "       [[9, 2],\n",
              "        [2, 1],\n",
              "        [7, 0],\n",
              "        [9, 9],\n",
              "        [7, 7]],\n",
              "\n",
              "       [[2, 1],\n",
              "        [3, 7],\n",
              "        [2, 0],\n",
              "        [4, 0],\n",
              "        [5, 2]]])"
            ]
          },
          "execution_count": 47,
          "metadata": {},
          "output_type": "execute_result"
        }
      ],
      "source": [
        "np.random.randint(10, size=(4, 5, 2))"
      ]
    },
    {
      "cell_type": "code",
      "execution_count": 39,
      "metadata": {},
      "outputs": [
        {
          "data": {
            "text/plain": [
              "array([[9, 6, 8, 4, 9, 0, 3, 1, 4, 8],\n",
              "       [5, 2, 7, 6, 9, 1, 3, 6, 9, 5]])"
            ]
          },
          "execution_count": 39,
          "metadata": {},
          "output_type": "execute_result"
        }
      ],
      "source": [
        "np.random.randint(10, size=20).reshape(2, 10)"
      ]
    },
    {
      "cell_type": "code",
      "execution_count": 46,
      "metadata": {},
      "outputs": [
        {
          "name": "stdout",
          "output_type": "stream",
          "text": [
            "[201.2 129.2  57.2 188.6  73.4 156.2 156.2 161.6  41.  192.2 111.2 122.\n",
            " 114.8 140.  116.6 123.8  33.8 177.8 111.2  75.2]\n"
          ]
        }
      ],
      "source": [
        "cels = np.random.randint(100, size=20)\n",
        "print((cels*1.8)+32)\n"
      ]
    },
    {
      "cell_type": "code",
      "execution_count": 61,
      "metadata": {},
      "outputs": [
        {
          "name": "stdout",
          "output_type": "stream",
          "text": [
            "Number of dimensions: 3\n",
            "Number of elements: 40\n"
          ]
        },
        {
          "data": {
            "text/plain": [
              "28"
            ]
          },
          "execution_count": 61,
          "metadata": {},
          "output_type": "execute_result"
        }
      ],
      "source": [
        "ip = np.random.randint(10, size=(4, 5, 2))\n",
        "\n",
        "print(f'Number of dimensions: {len(ip.shape)}')\n",
        "\n",
        "eleNum = 1\n",
        "for i in ip.shape:\n",
        "    eleNum *= i\n",
        "\n",
        "print(f'Number of elements: {eleNum}')\n",
        "\n",
        "sys.getsizeof(i)"
      ]
    },
    {
      "cell_type": "code",
      "execution_count": 55,
      "metadata": {},
      "outputs": [
        {
          "name": "stdout",
          "output_type": "stream",
          "text": [
            "[[7 7 5 6]\n",
            " [0 6 4 2]\n",
            " [6 0 7 6]]\n",
            "7 4\n"
          ]
        }
      ],
      "source": [
        "mat =np.random.randint(10, size=(3, 4))\n",
        "\n",
        "print(mat)\n",
        "\n",
        "print(mat[0, 1], mat[1, 2])"
      ]
    },
    {
      "cell_type": "code",
      "execution_count": null,
      "metadata": {},
      "outputs": [],
      "source": []
    }
  ],
  "metadata": {
    "colab": {
      "collapsed_sections": [],
      "provenance": [],
      "toc_visible": true
    },
    "kernelspec": {
      "display_name": "Python 3.9.13 64-bit (microsoft store)",
      "language": "python",
      "name": "python3"
    },
    "language_info": {
      "codemirror_mode": {
        "name": "ipython",
        "version": 3
      },
      "file_extension": ".py",
      "mimetype": "text/x-python",
      "name": "python",
      "nbconvert_exporter": "python",
      "pygments_lexer": "ipython3",
      "version": "3.9.13"
    },
    "vscode": {
      "interpreter": {
        "hash": "fadb1e38f0cdd3a7de9935db49a41ea4c57796df3b1bbd584faf5d0b9d3ba901"
      }
    }
  },
  "nbformat": 4,
  "nbformat_minor": 0
}
